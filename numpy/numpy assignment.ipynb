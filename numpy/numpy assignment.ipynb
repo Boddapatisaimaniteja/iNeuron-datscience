{
 "cells": [
  {
   "cell_type": "markdown",
   "metadata": {},
   "source": [
    "# MOVING AVERAGE"
   ]
  },
  {
   "cell_type": "code",
   "execution_count": 16,
   "metadata": {},
   "outputs": [
    {
     "name": "stdout",
     "output_type": "stream",
     "text": [
      "13\n",
      "3 5 7 2 8 10 11 65 72 81 99 100 150\n",
      "3\n"
     ]
    }
   ],
   "source": [
    "import numpy as np\n",
    "\n",
    "\n",
    "n=int(input())\n",
    "a=list(map(int,input().split()))\n",
    "\n",
    "a=np.array(a)\n",
    "k=int(input())"
   ]
  },
  {
   "cell_type": "code",
   "execution_count": 20,
   "metadata": {},
   "outputs": [
    {
     "name": "stdout",
     "output_type": "stream",
     "text": [
      "y0:   5\n",
      "y1:   4\n",
      "y2:   5\n",
      "y3:   6\n",
      "y4:   9\n",
      "y5:   28\n",
      "y6:   49\n",
      "y7:   72\n",
      "y8:   84\n",
      "y9:   93\n",
      "y10:   116\n"
     ]
    }
   ],
   "source": [
    "\n",
    "for i in range(n-k+1):\n",
    "    print(\"y\"+str(i)+\":  \",int(np.mean(a[i:i+k])))\n",
    "    "
   ]
  },
  {
   "cell_type": "markdown",
   "metadata": {},
   "source": [
    "# VANDER MATRIX "
   ]
  },
  {
   "cell_type": "code",
   "execution_count": 22,
   "metadata": {},
   "outputs": [
    {
     "name": "stdout",
     "output_type": "stream",
     "text": [
      "[[1 1 1]\n",
      " [4 2 1]\n",
      " [9 3 1]]\n"
     ]
    }
   ],
   "source": [
    "f=np.array([1,2,3])\n",
    "print(np.vander(f)) # N=len(f) when not specified"
   ]
  },
  {
   "cell_type": "code",
   "execution_count": null,
   "metadata": {},
   "outputs": [],
   "source": []
  }
 ],
 "metadata": {
  "kernelspec": {
   "display_name": "Python 3",
   "language": "python",
   "name": "python3"
  },
  "language_info": {
   "codemirror_mode": {
    "name": "ipython",
    "version": 3
   },
   "file_extension": ".py",
   "mimetype": "text/x-python",
   "name": "python",
   "nbconvert_exporter": "python",
   "pygments_lexer": "ipython3",
   "version": "3.7.6"
  }
 },
 "nbformat": 4,
 "nbformat_minor": 4
}
