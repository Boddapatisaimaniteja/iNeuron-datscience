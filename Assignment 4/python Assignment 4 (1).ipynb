{
 "cells": [
  {
   "cell_type": "markdown",
   "metadata": {},
   "source": [
    "# Write a Python Program(with class concepts) to find the area of the triangle using the belowformula.area = (s*(s-a)*(s-b)*(s-c)) ** 0.5Function to take the length of the sides of triangle from user should be defined in the parent class and function to calculate the area should be defined in subclass.Write a Python Program(with class concepts) to find the area of the triangle using the belowformula.area = (s*(s-a)*(s-b)*(s-c)) ** 0.5 Function to take the length of the sides of triangle from user should be defined in the parentclass and function to calculate the area should be defined in subclass."
   ]
  },
  {
   "cell_type": "code",
   "execution_count": 27,
   "metadata": {},
   "outputs": [
    {
     "name": "stdout",
     "output_type": "stream",
     "text": [
      "Area 12.0\n"
     ]
    }
   ],
   "source": [
    "class input_user:\n",
    "    def __init__(self,s,a,b,c):\n",
    "        self.s=s\n",
    "        self.a=a\n",
    "        self.b=b\n",
    "        self.c=c\n",
    "class area(input_user):\n",
    "    def __init__(self,*args):\n",
    "        super(area,self).__init__(*args)\n",
    "    def a_1(self):\n",
    "        #print(self.b)\n",
    "        print(\"Area\",(self.s*(self.s-self.a)*(self.s-self.b)*(self.s-self.c)*0.5))\n",
    "f=area(4,2,1,3)\n",
    "f.a_1()"
   ]
  },
  {
   "cell_type": "markdown",
   "metadata": {},
   "source": [
    "# 1.2 Write a function filter_long_words() that takes a list of words and an integer n and returnsthe list of words that are longer than n."
   ]
  },
  {
   "cell_type": "code",
   "execution_count": 21,
   "metadata": {},
   "outputs": [
    {
     "name": "stdout",
     "output_type": "stream",
     "text": [
      "['maniteja', 'saimaniteja']\n"
     ]
    }
   ],
   "source": [
    "def filter_long_words(l,n):\n",
    "    return [i for i in l if len(i)>n]\n",
    "    \n",
    "l=[\"mani\",\"maniteja\",\"saimaniteja\"]\n",
    "print(filter_long_words(l,4))"
   ]
  },
  {
   "cell_type": "markdown",
   "metadata": {},
   "source": [
    "# 2.1 Write a Python program using function concept that maps list of words into a list of integersrepresenting the lengths of the corresponding words."
   ]
  },
  {
   "cell_type": "code",
   "execution_count": 24,
   "metadata": {},
   "outputs": [
    {
     "name": "stdout",
     "output_type": "stream",
     "text": [
      "[4, 8, 11]\n"
     ]
    }
   ],
   "source": [
    "def word_len(l):\n",
    "    return map(len,l)\n",
    "l=[\"mani\",\"maniteja\",\"saimaniteja\"]\n",
    "print(list(word_len(l)))"
   ]
  },
  {
   "cell_type": "markdown",
   "metadata": {},
   "source": [
    "# 2.2 Write a Python function which takes a character (i.e. a string of length 1) and returns True if it is a vowel, False otherwise."
   ]
  },
  {
   "cell_type": "code",
   "execution_count": 26,
   "metadata": {},
   "outputs": [
    {
     "name": "stdout",
     "output_type": "stream",
     "text": [
      "Enter characterr\n"
     ]
    },
    {
     "data": {
      "text/plain": [
       "False"
      ]
     },
     "execution_count": 26,
     "metadata": {},
     "output_type": "execute_result"
    }
   ],
   "source": [
    "v=['a','e','i','o','u']\n",
    "def vowel_check(ch):\n",
    "    if ch in v:\n",
    "        return True\n",
    "    else:\n",
    "        return False\n",
    "c=input(\"Enter character\")\n",
    "vowel_check(c)"
   ]
  },
  {
   "cell_type": "code",
   "execution_count": null,
   "metadata": {},
   "outputs": [],
   "source": []
  }
 ],
 "metadata": {
  "kernelspec": {
   "display_name": "Python 3",
   "language": "python",
   "name": "python3"
  },
  "language_info": {
   "codemirror_mode": {
    "name": "ipython",
    "version": 3
   },
   "file_extension": ".py",
   "mimetype": "text/x-python",
   "name": "python",
   "nbconvert_exporter": "python",
   "pygments_lexer": "ipython3",
   "version": "3.7.6"
  }
 },
 "nbformat": 4,
 "nbformat_minor": 4
}
